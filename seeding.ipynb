{
 "cells": [
  {
   "cell_type": "code",
   "execution_count": 1,
   "metadata": {},
   "outputs": [],
   "source": [
    "import pandas as pd\n",
    "from sqlalchemy.orm import Session\n",
    "from models import *\n",
    "# from schemas.user_schema import *\n",
    "# from schemas.ruangan_schema import *\n",
    "# from schemas.instalasi_schema import *\n",
    "from database import *\n",
    "import numpy as np"
   ]
  },
  {
   "cell_type": "code",
   "execution_count": 2,
   "metadata": {},
   "outputs": [],
   "source": [
    "# pegawai = pd.read_csv(\"modelses/seed/DataPegawai.csv\")\n",
    "# pegawai = pd.read_csv(\"modelses/seed/Instalasi.csv\")\n",
    "# pegawai = pd.read_csv(\"modelses/seed/Ruangan.csv\")\n",
    "pegawai = pd.read_csv(\"seed/JenisBarang.csv\")"
   ]
  },
  {
   "cell_type": "code",
   "execution_count": 3,
   "metadata": {},
   "outputs": [
    {
     "data": {
      "text/html": [
       "<div>\n",
       "<style scoped>\n",
       "    .dataframe tbody tr th:only-of-type {\n",
       "        vertical-align: middle;\n",
       "    }\n",
       "\n",
       "    .dataframe tbody tr th {\n",
       "        vertical-align: top;\n",
       "    }\n",
       "\n",
       "    .dataframe thead th {\n",
       "        text-align: right;\n",
       "    }\n",
       "</style>\n",
       "<table border=\"1\" class=\"dataframe\">\n",
       "  <thead>\n",
       "    <tr style=\"text-align: right;\">\n",
       "      <th></th>\n",
       "      <th>KdJenisBarang</th>\n",
       "      <th>JenisBarang</th>\n",
       "      <th>KdKelompokBarang</th>\n",
       "      <th>QJenisBarang</th>\n",
       "      <th>KodeExternal</th>\n",
       "      <th>NamaExternal</th>\n",
       "      <th>StatusEnabled</th>\n",
       "    </tr>\n",
       "  </thead>\n",
       "  <tbody>\n",
       "    <tr>\n",
       "      <th>12</th>\n",
       "      <td>55</td>\n",
       "      <td>Inventaris PPM</td>\n",
       "      <td>2</td>\n",
       "      <td>174</td>\n",
       "      <td>NaN</td>\n",
       "      <td>NaN</td>\n",
       "      <td>1</td>\n",
       "    </tr>\n",
       "    <tr>\n",
       "      <th>13</th>\n",
       "      <td>40</td>\n",
       "      <td>Peralatan Medik</td>\n",
       "      <td>1</td>\n",
       "      <td>130</td>\n",
       "      <td>NaN</td>\n",
       "      <td>NaN</td>\n",
       "      <td>1</td>\n",
       "    </tr>\n",
       "    <tr>\n",
       "      <th>14</th>\n",
       "      <td>89</td>\n",
       "      <td>Peralatan Komputer</td>\n",
       "      <td>1</td>\n",
       "      <td>178</td>\n",
       "      <td>NaN</td>\n",
       "      <td>NaN</td>\n",
       "      <td>1</td>\n",
       "    </tr>\n",
       "    <tr>\n",
       "      <th>15</th>\n",
       "      <td>41</td>\n",
       "      <td>Darah</td>\n",
       "      <td>2</td>\n",
       "      <td>140</td>\n",
       "      <td>12</td>\n",
       "      <td>DARAH</td>\n",
       "      <td>1</td>\n",
       "    </tr>\n",
       "    <tr>\n",
       "      <th>16</th>\n",
       "      <td>39</td>\n",
       "      <td>Peralatan Rumah Tangga</td>\n",
       "      <td>1</td>\n",
       "      <td>129</td>\n",
       "      <td>NaN</td>\n",
       "      <td>NaN</td>\n",
       "      <td>1</td>\n",
       "    </tr>\n",
       "  </tbody>\n",
       "</table>\n",
       "</div>"
      ],
      "text/plain": [
       "    KdJenisBarang             JenisBarang  KdKelompokBarang  QJenisBarang  \\\n",
       "12             55          Inventaris PPM                 2           174   \n",
       "13             40         Peralatan Medik                 1           130   \n",
       "14             89      Peralatan Komputer                 1           178   \n",
       "15             41                   Darah                 2           140   \n",
       "16             39  Peralatan Rumah Tangga                 1           129   \n",
       "\n",
       "   KodeExternal NamaExternal  StatusEnabled  \n",
       "12          NaN          NaN              1  \n",
       "13          NaN          NaN              1  \n",
       "14          NaN          NaN              1  \n",
       "15           12        DARAH              1  \n",
       "16          NaN          NaN              1  "
      ]
     },
     "execution_count": 3,
     "metadata": {},
     "output_type": "execute_result"
    }
   ],
   "source": [
    "pegawai.tail()"
   ]
  },
  {
   "cell_type": "code",
   "execution_count": 5,
   "metadata": {},
   "outputs": [],
   "source": [
    "# pgw_new = pegawai.drop([\"QInstalasi\", \"KodeExternal\", \"NamaExternal\", \"StatusEnabled\"], axis=1)\n",
    "pgw_new = pegawai"
   ]
  },
  {
   "cell_type": "code",
   "execution_count": 4,
   "metadata": {},
   "outputs": [],
   "source": [
    "db = SessionLocal()"
   ]
  },
  {
   "cell_type": "code",
   "execution_count": 40,
   "metadata": {},
   "outputs": [],
   "source": [
    "ss = db.query(Ruangan).all()"
   ]
  },
  {
   "cell_type": "code",
   "execution_count": 6,
   "metadata": {},
   "outputs": [
    {
     "data": {
      "text/html": [
       "<div>\n",
       "<style scoped>\n",
       "    .dataframe tbody tr th:only-of-type {\n",
       "        vertical-align: middle;\n",
       "    }\n",
       "\n",
       "    .dataframe tbody tr th {\n",
       "        vertical-align: top;\n",
       "    }\n",
       "\n",
       "    .dataframe thead th {\n",
       "        text-align: right;\n",
       "    }\n",
       "</style>\n",
       "<table border=\"1\" class=\"dataframe\">\n",
       "  <thead>\n",
       "    <tr style=\"text-align: right;\">\n",
       "      <th></th>\n",
       "      <th>KdJenisBarang</th>\n",
       "      <th>JenisBarang</th>\n",
       "      <th>KdKelompokBarang</th>\n",
       "      <th>QJenisBarang</th>\n",
       "      <th>KodeExternal</th>\n",
       "      <th>NamaExternal</th>\n",
       "      <th>StatusEnabled</th>\n",
       "    </tr>\n",
       "  </thead>\n",
       "  <tbody>\n",
       "    <tr>\n",
       "      <th>0</th>\n",
       "      <td>1</td>\n",
       "      <td>Alkes</td>\n",
       "      <td>2</td>\n",
       "      <td>1</td>\n",
       "      <td>NaN</td>\n",
       "      <td>NaN</td>\n",
       "      <td>1</td>\n",
       "    </tr>\n",
       "    <tr>\n",
       "      <th>1</th>\n",
       "      <td>2</td>\n",
       "      <td>Obat-obatan</td>\n",
       "      <td>2</td>\n",
       "      <td>2</td>\n",
       "      <td>NaN</td>\n",
       "      <td>NaN</td>\n",
       "      <td>1</td>\n",
       "    </tr>\n",
       "    <tr>\n",
       "      <th>2</th>\n",
       "      <td>3</td>\n",
       "      <td>Gas Medis</td>\n",
       "      <td>2</td>\n",
       "      <td>3</td>\n",
       "      <td>NaN</td>\n",
       "      <td>NaN</td>\n",
       "      <td>1</td>\n",
       "    </tr>\n",
       "    <tr>\n",
       "      <th>3</th>\n",
       "      <td>4</td>\n",
       "      <td>Radiologi</td>\n",
       "      <td>2</td>\n",
       "      <td>4</td>\n",
       "      <td>NaN</td>\n",
       "      <td>NaN</td>\n",
       "      <td>1</td>\n",
       "    </tr>\n",
       "    <tr>\n",
       "      <th>4</th>\n",
       "      <td>5</td>\n",
       "      <td>Laboratorium</td>\n",
       "      <td>2</td>\n",
       "      <td>5</td>\n",
       "      <td>NaN</td>\n",
       "      <td>NaN</td>\n",
       "      <td>1</td>\n",
       "    </tr>\n",
       "  </tbody>\n",
       "</table>\n",
       "</div>"
      ],
      "text/plain": [
       "  KdJenisBarang   JenisBarang KdKelompokBarang QJenisBarang KodeExternal  \\\n",
       "0             1         Alkes                2            1          NaN   \n",
       "1             2   Obat-obatan                2            2          NaN   \n",
       "2             3     Gas Medis                2            3          NaN   \n",
       "3             4     Radiologi                2            4          NaN   \n",
       "4             5  Laboratorium                2            5          NaN   \n",
       "\n",
       "  NamaExternal StatusEnabled  \n",
       "0          NaN             1  \n",
       "1          NaN             1  \n",
       "2          NaN             1  \n",
       "3          NaN             1  \n",
       "4          NaN             1  "
      ]
     },
     "execution_count": 6,
     "metadata": {},
     "output_type": "execute_result"
    }
   ],
   "source": [
    "# pgw_new = pgw_new.astype(object).where(pd.notnull(pgw_new), None)\n",
    "pgw_new = pgw_new.astype(object)\n",
    "pgw_new.head()"
   ]
  },
  {
   "cell_type": "code",
   "execution_count": 56,
   "metadata": {},
   "outputs": [
    {
     "ename": "InvalidRequestError",
     "evalue": "This Session's transaction has been rolled back due to a previous exception during flush. To begin a new transaction with this Session, first issue Session.rollback(). Original exception was: (psycopg2.errors.DatatypeMismatch) column \"tanggal_lahir\" is of type timestamp without time zone but expression is of type double precision\nLINE 1: ...ANI, Sp.P', '19771019 200604 2 015', 'Surakarta', 'NaN'::flo...\n                                                             ^\nHINT:  You will need to rewrite or cast the expression.\n\n[SQL: INSERT INTO pegawai (id, nama_lengkap, nama_panggilan, tempat_lahir, tanggal_lahir, jenis_kelamin, no_hp, no_wa, created_at, update_at, deleted_at) VALUES (%(id)s, %(nama_lengkap)s, %(nama_panggilan)s, %(tempat_lahir)s, %(tanggal_lahir)s, %(jenis_kelamin)s, %(no_hp)s, %(no_wa)s, %(created_at)s, %(update_at)s, %(deleted_at)s)]\n[parameters: {'id': 'P013000096', 'nama_lengkap': 'dr. RENI ARI MARTANI, Sp.P', 'nama_panggilan': '19771019 200604 2 015', 'tempat_lahir': 'Surakarta', 'tanggal_lahir': nan, 'jenis_kelamin': 'P', 'no_hp': None, 'no_wa': None, 'created_at': datetime.datetime(2021, 3, 4, 10, 12, 9, 626211), 'update_at': datetime.datetime(2021, 3, 4, 10, 12, 9, 626211), 'deleted_at': None}]\n(Background on this error at: http://sqlalche.me/e/13/f405) (Background on this error at: http://sqlalche.me/e/13/7s2a)",
     "output_type": "error",
     "traceback": [
      "\u001b[1;31m---------------------------------------------------------------------------\u001b[0m",
      "\u001b[1;31mInvalidRequestError\u001b[0m                       Traceback (most recent call last)",
      "\u001b[1;32m<ipython-input-56-85714c659210>\u001b[0m in \u001b[0;36m<module>\u001b[1;34m\u001b[0m\n\u001b[0;32m      8\u001b[0m                      )\n\u001b[0;32m      9\u001b[0m     \u001b[0mdb\u001b[0m\u001b[1;33m.\u001b[0m\u001b[0madd\u001b[0m\u001b[1;33m(\u001b[0m\u001b[0mpegawai\u001b[0m\u001b[1;33m)\u001b[0m\u001b[1;33m\u001b[0m\u001b[1;33m\u001b[0m\u001b[0m\n\u001b[1;32m---> 10\u001b[1;33m     \u001b[0mdb\u001b[0m\u001b[1;33m.\u001b[0m\u001b[0mcommit\u001b[0m\u001b[1;33m(\u001b[0m\u001b[1;33m)\u001b[0m\u001b[1;33m\u001b[0m\u001b[1;33m\u001b[0m\u001b[0m\n\u001b[0m\u001b[0;32m     11\u001b[0m     \u001b[0mdb\u001b[0m\u001b[1;33m.\u001b[0m\u001b[0mrefresh\u001b[0m\u001b[1;33m(\u001b[0m\u001b[0mpegawai\u001b[0m\u001b[1;33m)\u001b[0m\u001b[1;33m\u001b[0m\u001b[1;33m\u001b[0m\u001b[0m\n",
      "\u001b[1;32mC:\\ProgramData\\Anaconda3\\lib\\site-packages\\sqlalchemy\\orm\\session.py\u001b[0m in \u001b[0;36mcommit\u001b[1;34m(self)\u001b[0m\n\u001b[0;32m   1040\u001b[0m                 \u001b[1;32mraise\u001b[0m \u001b[0msa_exc\u001b[0m\u001b[1;33m.\u001b[0m\u001b[0mInvalidRequestError\u001b[0m\u001b[1;33m(\u001b[0m\u001b[1;34m\"No transaction is begun.\"\u001b[0m\u001b[1;33m)\u001b[0m\u001b[1;33m\u001b[0m\u001b[1;33m\u001b[0m\u001b[0m\n\u001b[0;32m   1041\u001b[0m \u001b[1;33m\u001b[0m\u001b[0m\n\u001b[1;32m-> 1042\u001b[1;33m         \u001b[0mself\u001b[0m\u001b[1;33m.\u001b[0m\u001b[0mtransaction\u001b[0m\u001b[1;33m.\u001b[0m\u001b[0mcommit\u001b[0m\u001b[1;33m(\u001b[0m\u001b[1;33m)\u001b[0m\u001b[1;33m\u001b[0m\u001b[1;33m\u001b[0m\u001b[0m\n\u001b[0m\u001b[0;32m   1043\u001b[0m \u001b[1;33m\u001b[0m\u001b[0m\n\u001b[0;32m   1044\u001b[0m     \u001b[1;32mdef\u001b[0m \u001b[0mprepare\u001b[0m\u001b[1;33m(\u001b[0m\u001b[0mself\u001b[0m\u001b[1;33m)\u001b[0m\u001b[1;33m:\u001b[0m\u001b[1;33m\u001b[0m\u001b[1;33m\u001b[0m\u001b[0m\n",
      "\u001b[1;32mC:\\ProgramData\\Anaconda3\\lib\\site-packages\\sqlalchemy\\orm\\session.py\u001b[0m in \u001b[0;36mcommit\u001b[1;34m(self)\u001b[0m\n\u001b[0;32m    500\u001b[0m \u001b[1;33m\u001b[0m\u001b[0m\n\u001b[0;32m    501\u001b[0m     \u001b[1;32mdef\u001b[0m \u001b[0mcommit\u001b[0m\u001b[1;33m(\u001b[0m\u001b[0mself\u001b[0m\u001b[1;33m)\u001b[0m\u001b[1;33m:\u001b[0m\u001b[1;33m\u001b[0m\u001b[1;33m\u001b[0m\u001b[0m\n\u001b[1;32m--> 502\u001b[1;33m         \u001b[0mself\u001b[0m\u001b[1;33m.\u001b[0m\u001b[0m_assert_active\u001b[0m\u001b[1;33m(\u001b[0m\u001b[0mprepared_ok\u001b[0m\u001b[1;33m=\u001b[0m\u001b[1;32mTrue\u001b[0m\u001b[1;33m)\u001b[0m\u001b[1;33m\u001b[0m\u001b[1;33m\u001b[0m\u001b[0m\n\u001b[0m\u001b[0;32m    503\u001b[0m         \u001b[1;32mif\u001b[0m \u001b[0mself\u001b[0m\u001b[1;33m.\u001b[0m\u001b[0m_state\u001b[0m \u001b[1;32mis\u001b[0m \u001b[1;32mnot\u001b[0m \u001b[0mPREPARED\u001b[0m\u001b[1;33m:\u001b[0m\u001b[1;33m\u001b[0m\u001b[1;33m\u001b[0m\u001b[0m\n\u001b[0;32m    504\u001b[0m             \u001b[0mself\u001b[0m\u001b[1;33m.\u001b[0m\u001b[0m_prepare_impl\u001b[0m\u001b[1;33m(\u001b[0m\u001b[1;33m)\u001b[0m\u001b[1;33m\u001b[0m\u001b[1;33m\u001b[0m\u001b[0m\n",
      "\u001b[1;32mC:\\ProgramData\\Anaconda3\\lib\\site-packages\\sqlalchemy\\orm\\session.py\u001b[0m in \u001b[0;36m_assert_active\u001b[1;34m(self, prepared_ok, rollback_ok, deactive_ok, closed_msg)\u001b[0m\n\u001b[0;32m    294\u001b[0m                         \u001b[1;34m\" Original exception was: %s\"\u001b[0m\u001b[1;33m\u001b[0m\u001b[1;33m\u001b[0m\u001b[0m\n\u001b[0;32m    295\u001b[0m                         \u001b[1;33m%\u001b[0m \u001b[0mself\u001b[0m\u001b[1;33m.\u001b[0m\u001b[0m_rollback_exception\u001b[0m\u001b[1;33m,\u001b[0m\u001b[1;33m\u001b[0m\u001b[1;33m\u001b[0m\u001b[0m\n\u001b[1;32m--> 296\u001b[1;33m                         \u001b[0mcode\u001b[0m\u001b[1;33m=\u001b[0m\u001b[1;34m\"7s2a\"\u001b[0m\u001b[1;33m,\u001b[0m\u001b[1;33m\u001b[0m\u001b[1;33m\u001b[0m\u001b[0m\n\u001b[0m\u001b[0;32m    297\u001b[0m                     )\n\u001b[0;32m    298\u001b[0m                 \u001b[1;32melif\u001b[0m \u001b[1;32mnot\u001b[0m \u001b[0mdeactive_ok\u001b[0m\u001b[1;33m:\u001b[0m\u001b[1;33m\u001b[0m\u001b[1;33m\u001b[0m\u001b[0m\n",
      "\u001b[1;31mInvalidRequestError\u001b[0m: This Session's transaction has been rolled back due to a previous exception during flush. To begin a new transaction with this Session, first issue Session.rollback(). Original exception was: (psycopg2.errors.DatatypeMismatch) column \"tanggal_lahir\" is of type timestamp without time zone but expression is of type double precision\nLINE 1: ...ANI, Sp.P', '19771019 200604 2 015', 'Surakarta', 'NaN'::flo...\n                                                             ^\nHINT:  You will need to rewrite or cast the expression.\n\n[SQL: INSERT INTO pegawai (id, nama_lengkap, nama_panggilan, tempat_lahir, tanggal_lahir, jenis_kelamin, no_hp, no_wa, created_at, update_at, deleted_at) VALUES (%(id)s, %(nama_lengkap)s, %(nama_panggilan)s, %(tempat_lahir)s, %(tanggal_lahir)s, %(jenis_kelamin)s, %(no_hp)s, %(no_wa)s, %(created_at)s, %(update_at)s, %(deleted_at)s)]\n[parameters: {'id': 'P013000096', 'nama_lengkap': 'dr. RENI ARI MARTANI, Sp.P', 'nama_panggilan': '19771019 200604 2 015', 'tempat_lahir': 'Surakarta', 'tanggal_lahir': nan, 'jenis_kelamin': 'P', 'no_hp': None, 'no_wa': None, 'created_at': datetime.datetime(2021, 3, 4, 10, 12, 9, 626211), 'update_at': datetime.datetime(2021, 3, 4, 10, 12, 9, 626211), 'deleted_at': None}]\n(Background on this error at: http://sqlalche.me/e/13/f405) (Background on this error at: http://sqlalche.me/e/13/7s2a)"
     ]
    }
   ],
   "source": [
    "for i in range(0, pgw_new.shape[0]):\n",
    "    pegawai = Pegawai(id=pgw_new.iloc[i]['IdPegawai'],\n",
    "                      nama_lengkap=pgw_new.iloc[i]['NamaLengkap'],\n",
    "                      nama_panggilan=pgw_new.iloc[i]['NamaPanggilan'],\n",
    "                      jenis_kelamin=pgw_new.iloc[i]['JenisKelamin'],\n",
    "                      tempat_lahir=pgw_new.iloc[i]['TempatLahir'],\n",
    "                      tanggal_lahir=pgw_new.iloc[i]['TglLahir']\n",
    "                     )\n",
    "    db.add(pegawai)\n",
    "    db.commit()\n",
    "    db.refresh(pegawai)"
   ]
  },
  {
   "cell_type": "code",
   "execution_count": 28,
   "metadata": {},
   "outputs": [],
   "source": [
    "for i in range(0, pgw_new.shape[0]):\n",
    "    instalasi = Instalasi(id=pgw_new.iloc[i]['KdInstalasi'],\n",
    "                      nama=pgw_new.iloc[i]['NamaInstalasi'],\n",
    "                     )\n",
    "    db.add(instalasi)\n",
    "    db.commit()\n",
    "    db.refresh(instalasi)\n",
    "    db.close()"
   ]
  },
  {
   "cell_type": "code",
   "execution_count": 36,
   "metadata": {},
   "outputs": [],
   "source": [
    "for i in range(0, pgw_new.shape[0]):\n",
    "    ruangan = Ruangan(id=pgw_new.iloc[i]['KdRuangan'],\n",
    "                      nama=pgw_new.iloc[i]['NamaRuangan'],\n",
    "                      id_instalasi=pgw_new.iloc[i]['KdInstalasi']\n",
    "                     )\n",
    "    db.add(ruangan)\n",
    "    db.commit()\n",
    "    db.refresh(ruangan)\n",
    "    db.close()"
   ]
  },
  {
   "cell_type": "code",
   "execution_count": 8,
   "metadata": {},
   "outputs": [],
   "source": [
    "for i in range(0, pgw_new.shape[0]):\n",
    "    instalasi = JenisSarana(nama=pgw_new.iloc[i]['JenisBarang'])\n",
    "    db.add(instalasi)\n",
    "    db.commit()\n",
    "    db.refresh(instalasi)\n",
    "    db.close()"
   ]
  },
  {
   "cell_type": "code",
   "execution_count": 3,
   "metadata": {},
   "outputs": [],
   "source": [
    "from controllers.kategori_masalah_controller import *"
   ]
  },
  {
   "cell_type": "code",
   "execution_count": 4,
   "metadata": {},
   "outputs": [],
   "source": [
    "seed_kategori_masalah(db=db)"
   ]
  },
  {
   "cell_type": "code",
   "execution_count": null,
   "metadata": {},
   "outputs": [],
   "source": []
  }
 ],
 "metadata": {
  "kernelspec": {
   "display_name": "Python 3",
   "language": "python",
   "name": "python3"
  },
  "language_info": {
   "codemirror_mode": {
    "name": "ipython",
    "version": 3
   },
   "file_extension": ".py",
   "mimetype": "text/x-python",
   "name": "python",
   "nbconvert_exporter": "python",
   "pygments_lexer": "ipython3",
   "version": "3.7.3"
  }
 },
 "nbformat": 4,
 "nbformat_minor": 2
}
