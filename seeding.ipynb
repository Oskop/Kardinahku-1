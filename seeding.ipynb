{
 "cells": [
  {
   "cell_type": "code",
   "execution_count": 1,
   "metadata": {},
   "outputs": [],
   "source": [
    "import pandas as pd\n",
    "from sqlalchemy.orm import Session\n",
    "from models import *\n",
    "# from schemas.user_schema import *\n",
    "# from schemas.ruangan_schema import *\n",
    "# from schemas.instalasi_schema import *\n",
    "from database import *\n",
    "# import numpy as np"
   ]
  },
  {
   "cell_type": "code",
   "execution_count": 2,
   "metadata": {},
   "outputs": [],
   "source": [
    "pegawai = pd.read_csv(\"seed/DataPegawai.csv\")\n",
    "# pegawai = pd.read_csv(\"modelses/seed/Instalasi.csv\")\n",
    "# pegawai = pd.read_csv(\"modelses/seed/Ruangan.csv\")\n",
    "# pegawai = pd.read_csv(\"seed/JenisBarang.csv\")"
   ]
  },
  {
   "cell_type": "code",
   "execution_count": 3,
   "metadata": {},
   "outputs": [
    {
     "data": {
      "text/html": [
       "<div>\n",
       "<style scoped>\n",
       "    .dataframe tbody tr th:only-of-type {\n",
       "        vertical-align: middle;\n",
       "    }\n",
       "\n",
       "    .dataframe tbody tr th {\n",
       "        vertical-align: top;\n",
       "    }\n",
       "\n",
       "    .dataframe thead th {\n",
       "        text-align: right;\n",
       "    }\n",
       "</style>\n",
       "<table border=\"1\" class=\"dataframe\">\n",
       "  <thead>\n",
       "    <tr style=\"text-align: right;\">\n",
       "      <th></th>\n",
       "      <th>IdPegawai</th>\n",
       "      <th>KdJenisPegawai</th>\n",
       "      <th>KdTitle</th>\n",
       "      <th>NamaLengkap</th>\n",
       "      <th>NamaKeluarga</th>\n",
       "      <th>NamaPanggilan</th>\n",
       "      <th>JenisKelamin</th>\n",
       "      <th>TempatLahir</th>\n",
       "      <th>TglLahir</th>\n",
       "      <th>TglMasuk</th>\n",
       "      <th>TglKeluar</th>\n",
       "    </tr>\n",
       "  </thead>\n",
       "  <tbody>\n",
       "    <tr>\n",
       "      <th>761</th>\n",
       "      <td>L001000068</td>\n",
       "      <td>7</td>\n",
       "      <td>4.0</td>\n",
       "      <td>IRKHAM ABDULLAH AZZAM</td>\n",
       "      <td>NaN</td>\n",
       "      <td>NaN</td>\n",
       "      <td>L</td>\n",
       "      <td>Tegal</td>\n",
       "      <td>7/8/1992 00:00:00</td>\n",
       "      <td>NaN</td>\n",
       "      <td>NaN</td>\n",
       "    </tr>\n",
       "    <tr>\n",
       "      <th>762</th>\n",
       "      <td>P023000575</td>\n",
       "      <td>23</td>\n",
       "      <td>2.0</td>\n",
       "      <td>Santoso, Amd</td>\n",
       "      <td>NaN</td>\n",
       "      <td>NaN</td>\n",
       "      <td>NaN</td>\n",
       "      <td>NaN</td>\n",
       "      <td>NaN</td>\n",
       "      <td>NaN</td>\n",
       "      <td>NaN</td>\n",
       "    </tr>\n",
       "    <tr>\n",
       "      <th>763</th>\n",
       "      <td>P023000576</td>\n",
       "      <td>23</td>\n",
       "      <td>2.0</td>\n",
       "      <td>Ayub, Amd</td>\n",
       "      <td>NaN</td>\n",
       "      <td>NaN</td>\n",
       "      <td>NaN</td>\n",
       "      <td>NaN</td>\n",
       "      <td>NaN</td>\n",
       "      <td>NaN</td>\n",
       "      <td>NaN</td>\n",
       "    </tr>\n",
       "    <tr>\n",
       "      <th>764</th>\n",
       "      <td>P023000577</td>\n",
       "      <td>23</td>\n",
       "      <td>2.0</td>\n",
       "      <td>Dwi Setyo, Amd</td>\n",
       "      <td>NaN</td>\n",
       "      <td>NaN</td>\n",
       "      <td>NaN</td>\n",
       "      <td>NaN</td>\n",
       "      <td>NaN</td>\n",
       "      <td>NaN</td>\n",
       "      <td>NaN</td>\n",
       "    </tr>\n",
       "    <tr>\n",
       "      <th>765</th>\n",
       "      <td>P023000578</td>\n",
       "      <td>23</td>\n",
       "      <td>2.0</td>\n",
       "      <td>Trisnanto, Amd</td>\n",
       "      <td>NaN</td>\n",
       "      <td>NaN</td>\n",
       "      <td>NaN</td>\n",
       "      <td>NaN</td>\n",
       "      <td>NaN</td>\n",
       "      <td>NaN</td>\n",
       "      <td>NaN</td>\n",
       "    </tr>\n",
       "  </tbody>\n",
       "</table>\n",
       "</div>"
      ],
      "text/plain": [
       "      IdPegawai  KdJenisPegawai  KdTitle            NamaLengkap NamaKeluarga  \\\n",
       "761  L001000068               7      4.0  IRKHAM ABDULLAH AZZAM          NaN   \n",
       "762  P023000575              23      2.0           Santoso, Amd          NaN   \n",
       "763  P023000576              23      2.0              Ayub, Amd          NaN   \n",
       "764  P023000577              23      2.0         Dwi Setyo, Amd          NaN   \n",
       "765  P023000578              23      2.0         Trisnanto, Amd          NaN   \n",
       "\n",
       "    NamaPanggilan JenisKelamin TempatLahir           TglLahir TglMasuk  \\\n",
       "761           NaN            L       Tegal  7/8/1992 00:00:00      NaN   \n",
       "762           NaN          NaN         NaN                NaN      NaN   \n",
       "763           NaN          NaN         NaN                NaN      NaN   \n",
       "764           NaN          NaN         NaN                NaN      NaN   \n",
       "765           NaN          NaN         NaN                NaN      NaN   \n",
       "\n",
       "    TglKeluar  \n",
       "761       NaN  \n",
       "762       NaN  \n",
       "763       NaN  \n",
       "764       NaN  \n",
       "765       NaN  "
      ]
     },
     "execution_count": 3,
     "metadata": {},
     "output_type": "execute_result"
    }
   ],
   "source": [
    "pegawai.tail()"
   ]
  },
  {
   "cell_type": "code",
   "execution_count": 4,
   "metadata": {},
   "outputs": [],
   "source": [
    "# pgw_new = pegawai.drop([\"QInstalasi\", \"KodeExternal\", \"NamaExternal\", \"StatusEnabled\"], axis=1)\n",
    "pgw_new = pegawai"
   ]
  },
  {
   "cell_type": "code",
   "execution_count": 3,
   "metadata": {},
   "outputs": [],
   "source": [
    "db = SessionLocal()"
   ]
  },
  {
   "cell_type": "code",
   "execution_count": 40,
   "metadata": {},
   "outputs": [],
   "source": [
    "ss = db.query(Ruangan).all()"
   ]
  },
  {
   "cell_type": "code",
   "execution_count": 5,
   "metadata": {},
   "outputs": [],
   "source": [
    "pegawai = pegawai.astype(object).where(pd.notnull(pegawai), None)\n",
    "# pegawai.head()"
   ]
  },
  {
   "cell_type": "code",
   "execution_count": 6,
   "metadata": {},
   "outputs": [],
   "source": [
    "for i in range(0, pegawai.shape[0]):\n",
    "    pegawais = Pegawai(id=pegawai.iloc[i]['IdPegawai'],\n",
    "                      nama_lengkap=pegawai.iloc[i]['NamaLengkap'],\n",
    "                      nama_panggilan=pegawai.iloc[i]['NamaPanggilan'],\n",
    "                      jenis_kelamin=pegawai.iloc[i]['JenisKelamin'],\n",
    "                      tempat_lahir=pegawai.iloc[i]['TempatLahir'],\n",
    "                      tanggal_lahir=datetime.strptime(pegawai.iloc[i]['TglLahir'], \"%d/%m/%Y %H:%M:%S\") if pegawai.iloc[i]['TglLahir'] != None or pegawai.iloc[i]['TglLahir'] == 'NaN' else None\n",
    "                     )\n",
    "    db.add(pegawais)\n",
    "    db.commit()\n",
    "    db.refresh(pegawais)\n",
    "del pegawai"
   ]
  },
  {
   "cell_type": "code",
   "execution_count": 4,
   "metadata": {},
   "outputs": [
    {
     "name": "stdout",
     "output_type": "stream",
     "text": [
      "766\n",
      "0\n"
     ]
    },
    {
     "data": {
      "text/plain": [
       "True"
      ]
     },
     "execution_count": 4,
     "metadata": {},
     "output_type": "execute_result"
    }
   ],
   "source": [
    "from controllers.pegawai_controller import reset_pegawai, seed_pegawai\n",
    "# reset_pegawai(db=db)\n",
    "seed_pegawai(db=db)"
   ]
  },
  {
   "cell_type": "code",
   "execution_count": 28,
   "metadata": {},
   "outputs": [],
   "source": [
    "for i in range(0, pgw_new.shape[0]):\n",
    "    instalasi = Instalasi(id=pgw_new.iloc[i]['KdInstalasi'],\n",
    "                      nama=pgw_new.iloc[i]['NamaInstalasi'],\n",
    "                     )\n",
    "    db.add(instalasi)\n",
    "    db.commit()\n",
    "    db.refresh(instalasi)\n",
    "    db.close()"
   ]
  },
  {
   "cell_type": "code",
   "execution_count": 36,
   "metadata": {},
   "outputs": [],
   "source": [
    "for i in range(0, pgw_new.shape[0]):\n",
    "    ruangan = Ruangan(id=pgw_new.iloc[i]['KdRuangan'],\n",
    "                      nama=pgw_new.iloc[i]['NamaRuangan'],\n",
    "                      id_instalasi=pgw_new.iloc[i]['KdInstalasi']\n",
    "                     )\n",
    "    db.add(ruangan)\n",
    "    db.commit()\n",
    "    db.refresh(ruangan)\n",
    "    db.close()"
   ]
  },
  {
   "cell_type": "code",
   "execution_count": 8,
   "metadata": {},
   "outputs": [],
   "source": [
    "for i in range(0, pgw_new.shape[0]):\n",
    "    instalasi = JenisSarana(nama=pgw_new.iloc[i]['JenisBarang'])\n",
    "    db.add(instalasi)\n",
    "    db.commit()\n",
    "    db.refresh(instalasi)\n",
    "    db.close()"
   ]
  },
  {
   "cell_type": "code",
   "execution_count": 2,
   "metadata": {},
   "outputs": [],
   "source": [
    "from controllers.pegawai_controller import reset_pegawai"
   ]
  },
  {
   "cell_type": "code",
   "execution_count": 4,
   "metadata": {},
   "outputs": [
    {
     "name": "stdout",
     "output_type": "stream",
     "text": [
      "(psycopg2.errors.ForeignKeyViolation) update or delete on table \"pegawai\" violates foreign key constraint \"users_id_pegawai_fkey\" on table \"users\"\n",
      "DETAIL:  Key (id)=(8888888888) is still referenced from table \"users\".\n",
      "\n",
      "[SQL: DELETE FROM pegawai]\n",
      "(Background on this error at: http://sqlalche.me/e/13/gkpj)\n"
     ]
    },
    {
     "data": {
      "text/plain": [
       "False"
      ]
     },
     "execution_count": 4,
     "metadata": {},
     "output_type": "execute_result"
    }
   ],
   "source": [
    "reset_pegawai(db=db)"
   ]
  },
  {
   "cell_type": "code",
   "execution_count": 7,
   "metadata": {},
   "outputs": [
    {
     "ename": "ImportError",
     "evalue": "cannot import name 'reset_users' from 'controllers.user_controller' (F:\\Log THL\\aplikasi\\Kardinahku_\\controllers\\user_controller.py)",
     "output_type": "error",
     "traceback": [
      "\u001b[1;31m---------------------------------------------------------------------------\u001b[0m",
      "\u001b[1;31mImportError\u001b[0m                               Traceback (most recent call last)",
      "\u001b[1;32m<ipython-input-7-4d8f1919692e>\u001b[0m in \u001b[0;36m<module>\u001b[1;34m\u001b[0m\n\u001b[1;32m----> 1\u001b[1;33m \u001b[1;32mfrom\u001b[0m \u001b[0mcontrollers\u001b[0m\u001b[1;33m.\u001b[0m\u001b[0muser_controller\u001b[0m \u001b[1;32mimport\u001b[0m \u001b[0mreset_users\u001b[0m\u001b[1;33m\u001b[0m\u001b[1;33m\u001b[0m\u001b[0m\n\u001b[0m",
      "\u001b[1;31mImportError\u001b[0m: cannot import name 'reset_users' from 'controllers.user_controller' (F:\\Log THL\\aplikasi\\Kardinahku_\\controllers\\user_controller.py)"
     ]
    }
   ],
   "source": [
    "from controllers.user_controller import reset_users"
   ]
  },
  {
   "cell_type": "code",
   "execution_count": 6,
   "metadata": {},
   "outputs": [
    {
     "ename": "NameError",
     "evalue": "name 'reset_users' is not defined",
     "output_type": "error",
     "traceback": [
      "\u001b[1;31m---------------------------------------------------------------------------\u001b[0m",
      "\u001b[1;31mNameError\u001b[0m                                 Traceback (most recent call last)",
      "\u001b[1;32m<ipython-input-6-dcef2e4fc1dc>\u001b[0m in \u001b[0;36m<module>\u001b[1;34m\u001b[0m\n\u001b[1;32m----> 1\u001b[1;33m \u001b[0mreset_users\u001b[0m\u001b[1;33m(\u001b[0m\u001b[0mdb\u001b[0m\u001b[1;33m=\u001b[0m\u001b[0mdb\u001b[0m\u001b[1;33m)\u001b[0m\u001b[1;33m\u001b[0m\u001b[1;33m\u001b[0m\u001b[0m\n\u001b[0m",
      "\u001b[1;31mNameError\u001b[0m: name 'reset_users' is not defined"
     ]
    }
   ],
   "source": [
    "reset_users(db=db)"
   ]
  }
 ],
 "metadata": {
  "kernelspec": {
   "display_name": "Python 3",
   "language": "python",
   "name": "python3"
  },
  "language_info": {
   "codemirror_mode": {
    "name": "ipython",
    "version": 3
   },
   "file_extension": ".py",
   "mimetype": "text/x-python",
   "name": "python",
   "nbconvert_exporter": "python",
   "pygments_lexer": "ipython3",
   "version": "3.7.3"
  }
 },
 "nbformat": 4,
 "nbformat_minor": 2
}
