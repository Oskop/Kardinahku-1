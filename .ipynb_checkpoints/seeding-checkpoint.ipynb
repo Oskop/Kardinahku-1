{
 "cells": [
  {
   "cell_type": "code",
   "execution_count": 1,
   "metadata": {},
   "outputs": [],
   "source": [
    "import pandas as pd\n",
    "from sqlalchemy.orm import Session\n",
    "from models import *\n",
    "# from schemas.user_schema import *\n",
    "# from schemas.ruangan_schema import *\n",
    "# from schemas.instalasi_schema import *\n",
    "from database import *\n",
    "import numpy as np"
   ]
  },
  {
   "cell_type": "code",
   "execution_count": 2,
   "metadata": {},
   "outputs": [],
   "source": [
    "df_pegawai = pd.read_csv(\"modelses/seed/DataPegawai.csv\")\n",
    "df_instalasi = pd.read_csv(\"modelses/seed/Instalasi.csv\")\n",
    "df_ruangan = pd.read_csv(\"modelses/seed/Ruangan.csv\")"
   ]
  },
  {
   "cell_type": "code",
   "execution_count": 30,
   "metadata": {},
   "outputs": [
    {
     "data": {
      "text/html": [
       "<div>\n",
       "<style scoped>\n",
       "    .dataframe tbody tr th:only-of-type {\n",
       "        vertical-align: middle;\n",
       "    }\n",
       "\n",
       "    .dataframe tbody tr th {\n",
       "        vertical-align: top;\n",
       "    }\n",
       "\n",
       "    .dataframe thead th {\n",
       "        text-align: right;\n",
       "    }\n",
       "</style>\n",
       "<table border=\"1\" class=\"dataframe\">\n",
       "  <thead>\n",
       "    <tr style=\"text-align: right;\">\n",
       "      <th></th>\n",
       "      <th>KdRuangan</th>\n",
       "      <th>NamaRuangan</th>\n",
       "      <th>NoRuangan</th>\n",
       "      <th>LokasiRuangan</th>\n",
       "      <th>KdInstalasi</th>\n",
       "      <th>KdDetailJenisJasaPelayanan</th>\n",
       "      <th>NoCounter</th>\n",
       "      <th>QRuangan</th>\n",
       "      <th>KodeExternal</th>\n",
       "      <th>NamaExternal</th>\n",
       "      <th>StatusEnabled</th>\n",
       "    </tr>\n",
       "  </thead>\n",
       "  <tbody>\n",
       "    <tr>\n",
       "      <th>215</th>\n",
       "      <td>991</td>\n",
       "      <td>Laboratorium Mikrobiologi Klinik</td>\n",
       "      <td>NaN</td>\n",
       "      <td>-</td>\n",
       "      <td>9</td>\n",
       "      <td>1.0</td>\n",
       "      <td>NaN</td>\n",
       "      <td>452</td>\n",
       "      <td>NaN</td>\n",
       "      <td>NaN</td>\n",
       "      <td>1</td>\n",
       "    </tr>\n",
       "    <tr>\n",
       "      <th>216</th>\n",
       "      <td>808</td>\n",
       "      <td>ICCU</td>\n",
       "      <td>NaN</td>\n",
       "      <td>ICCU</td>\n",
       "      <td>8</td>\n",
       "      <td>1.0</td>\n",
       "      <td>NaN</td>\n",
       "      <td>545</td>\n",
       "      <td>24.0</td>\n",
       "      <td>ICC</td>\n",
       "      <td>1</td>\n",
       "    </tr>\n",
       "    <tr>\n",
       "      <th>217</th>\n",
       "      <td>966</td>\n",
       "      <td>Bank Darah</td>\n",
       "      <td>NaN</td>\n",
       "      <td>-</td>\n",
       "      <td>9</td>\n",
       "      <td>1.0</td>\n",
       "      <td>NaN</td>\n",
       "      <td>458</td>\n",
       "      <td>NaN</td>\n",
       "      <td>NaN</td>\n",
       "      <td>1</td>\n",
       "    </tr>\n",
       "    <tr>\n",
       "      <th>218</th>\n",
       "      <td>809</td>\n",
       "      <td>PICU</td>\n",
       "      <td>NaN</td>\n",
       "      <td>-</td>\n",
       "      <td>8</td>\n",
       "      <td>1.0</td>\n",
       "      <td>NaN</td>\n",
       "      <td>546</td>\n",
       "      <td>24.0</td>\n",
       "      <td>PIC</td>\n",
       "      <td>1</td>\n",
       "    </tr>\n",
       "    <tr>\n",
       "      <th>219</th>\n",
       "      <td>119</td>\n",
       "      <td>Poli Stroke</td>\n",
       "      <td>NaN</td>\n",
       "      <td>NaN</td>\n",
       "      <td>2</td>\n",
       "      <td>1.0</td>\n",
       "      <td>NaN</td>\n",
       "      <td>477</td>\n",
       "      <td>NaN</td>\n",
       "      <td>NaN</td>\n",
       "      <td>1</td>\n",
       "    </tr>\n",
       "  </tbody>\n",
       "</table>\n",
       "</div>"
      ],
      "text/plain": [
       "     KdRuangan                       NamaRuangan NoRuangan LokasiRuangan  \\\n",
       "215        991  Laboratorium Mikrobiologi Klinik       NaN             -   \n",
       "216        808                              ICCU       NaN          ICCU   \n",
       "217        966                        Bank Darah       NaN             -   \n",
       "218        809                              PICU       NaN             -   \n",
       "219        119                       Poli Stroke       NaN           NaN   \n",
       "\n",
       "     KdInstalasi  KdDetailJenisJasaPelayanan  NoCounter  QRuangan  \\\n",
       "215            9                         1.0        NaN       452   \n",
       "216            8                         1.0        NaN       545   \n",
       "217            9                         1.0        NaN       458   \n",
       "218            8                         1.0        NaN       546   \n",
       "219            2                         1.0        NaN       477   \n",
       "\n",
       "     KodeExternal NamaExternal  StatusEnabled  \n",
       "215           NaN          NaN              1  \n",
       "216          24.0          ICC              1  \n",
       "217           NaN          NaN              1  \n",
       "218          24.0          PIC              1  \n",
       "219           NaN          NaN              1  "
      ]
     },
     "execution_count": 30,
     "metadata": {},
     "output_type": "execute_result"
    }
   ],
   "source": [
    "pegawai.tail()"
   ]
  },
  {
   "cell_type": "code",
   "execution_count": 33,
   "metadata": {},
   "outputs": [],
   "source": [
    "# pgw_new = pegawai.drop([\"QInstalasi\", \"KodeExternal\", \"NamaExternal\", \"StatusEnabled\"], axis=1)\n",
    "pgw_new = pegawai"
   ]
  },
  {
   "cell_type": "code",
   "execution_count": 3,
   "metadata": {},
   "outputs": [],
   "source": [
    "db = SessionLocal()"
   ]
  },
  {
   "cell_type": "code",
   "execution_count": 40,
   "metadata": {},
   "outputs": [],
   "source": [
    "ss = db.query(Ruangan).all()"
   ]
  },
  {
   "cell_type": "code",
   "execution_count": 4,
   "metadata": {},
   "outputs": [],
   "source": [
    "# pgw_new = pgw_new.astype(object).where(pd.notnull(pgw_new), None)\n",
    "df_pegawai = df_pegawai.astype(object)\n",
    "df_instalasi = df_instalasi.astype(object)\n",
    "df_ruangan = df_ruangan.astype(object)\n",
    "# pgw_new.head()"
   ]
  },
  {
   "cell_type": "code",
   "execution_count": 15,
   "metadata": {},
   "outputs": [
    {
     "data": {
      "text/plain": [
       "'28-11-1954 00:00:00'"
      ]
     },
     "execution_count": 15,
     "metadata": {},
     "output_type": "execute_result"
    }
   ],
   "source": [
    "df_pegawai.iloc[2][\"TglLahir\"].replace('/', '-')"
   ]
  },
  {
   "cell_type": "code",
   "execution_count": 7,
   "metadata": {},
   "outputs": [
    {
     "name": "stdout",
     "output_type": "stream",
     "text": [
      "(psycopg2.errors.DatetimeFieldOverflow) date/time field value out of range: \"23/4/1955 00:00:00\"\n",
      "LINE 1: ...dr. WASRIL WAZAR, SpJp', 'NaN'::float, 'Jakarta', '23/4/1955...\n",
      "                                                             ^\n",
      "HINT:  Perhaps you need a different \"datestyle\" setting.\n",
      "\n",
      "[SQL: INSERT INTO pegawai (id, nama_lengkap, nama_panggilan, tempat_lahir, tanggal_lahir, jenis_kelamin, no_hp, no_wa, created_at, update_at, deleted_at) VALUES (%(id)s, %(nama_lengkap)s, %(nama_panggilan)s, %(tempat_lahir)s, %(tanggal_lahir)s, %(jenis_kelamin)s, %(no_hp)s, %(no_wa)s, %(created_at)s, %(update_at)s, %(deleted_at)s)]\n",
      "[parameters: {'id': 'L013000001', 'nama_lengkap': 'dr. WASRIL WAZAR, SpJp', 'nama_panggilan': nan, 'tempat_lahir': 'Jakarta', 'tanggal_lahir': '23/4/1955 00:00:00', 'jenis_kelamin': 'L', 'no_hp': None, 'no_wa': None, 'created_at': datetime.datetime(2021, 3, 15, 15, 40, 4, 427694), 'update_at': datetime.datetime(2021, 3, 15, 15, 40, 4, 427694), 'deleted_at': None}]\n",
      "(Background on this error at: http://sqlalche.me/e/13/9h9h)\n"
     ]
    }
   ],
   "source": [
    "try:\n",
    "    for i in range(0, df_pegawai.shape[0]):\n",
    "        if i == 0:\n",
    "            continue\n",
    "        pegawai = Pegawai(id=df_pegawai.iloc[i]['IdPegawai'],\n",
    "                      nama_lengkap=df_pegawai.iloc[i]['NamaLengkap'],\n",
    "                      nama_panggilan=df_pegawai.iloc[i]['NamaPanggilan'],\n",
    "                      jenis_kelamin=df_pegawai.iloc[i]['JenisKelamin'],\n",
    "                      tempat_lahir=df_pegawai.iloc[i]['TempatLahir'],\n",
    "                      tanggal_lahir=df_pegawai.iloc[i]['TglLahir'].replace('/', '-')\n",
    "                     )\n",
    "        db.add(pegawai)\n",
    "        db.commit()\n",
    "        db.refresh(pegawai)\n",
    "    print(\"success\")\n",
    "except Exception as e:\n",
    "    print(e)\n",
    "    db.rollback()"
   ]
  },
  {
   "cell_type": "code",
   "execution_count": 9,
   "metadata": {},
   "outputs": [],
   "source": [
    "try:\n",
    "    for i in range(0, df_instalasi.shape[0]):\n",
    "        instalasi = Instalasi(id=df_instalasi.iloc[i]['KdInstalasi'],\n",
    "                      nama=df_instalasi.iloc[i]['NamaInstalasi'],\n",
    "                     )\n",
    "        db.add(instalasi)\n",
    "        db.commit()\n",
    "        db.refresh(instalasi)\n",
    "        db.close()\n",
    "except:\n",
    "    db.rollback()"
   ]
  },
  {
   "cell_type": "code",
   "execution_count": 12,
   "metadata": {},
   "outputs": [],
   "source": [
    "try:\n",
    "    for i in range(0, df_ruangan.shape[0]):\n",
    "        ruangan = Ruangan(id=df_ruangan.iloc[i]['KdRuangan'],\n",
    "                      nama=df_ruangan.iloc[i]['NamaRuangan'],\n",
    "                      id_instalasi=df_ruangan.iloc[i]['KdInstalasi']\n",
    "                     )\n",
    "        db.add(ruangan)\n",
    "        db.commit()\n",
    "        db.refresh(ruangan)\n",
    "        db.close()\n",
    "except:\n",
    "    db.rollback()"
   ]
  },
  {
   "cell_type": "code",
   "execution_count": null,
   "metadata": {},
   "outputs": [],
   "source": []
  },
  {
   "cell_type": "code",
   "execution_count": null,
   "metadata": {},
   "outputs": [],
   "source": []
  },
  {
   "cell_type": "code",
   "execution_count": null,
   "metadata": {},
   "outputs": [],
   "source": []
  }
 ],
 "metadata": {
  "kernelspec": {
   "display_name": "Python 3",
   "language": "python",
   "name": "python3"
  },
  "language_info": {
   "codemirror_mode": {
    "name": "ipython",
    "version": 3
   },
   "file_extension": ".py",
   "mimetype": "text/x-python",
   "name": "python",
   "nbconvert_exporter": "python",
   "pygments_lexer": "ipython3",
   "version": "3.7.3"
  }
 },
 "nbformat": 4,
 "nbformat_minor": 2
}
