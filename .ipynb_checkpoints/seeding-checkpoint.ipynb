{
 "cells": [
  {
   "cell_type": "code",
   "execution_count": 24,
   "metadata": {},
   "outputs": [],
   "source": [
    "import pandas as pd\n",
    "from sqlalchemy.orm import Session\n",
    "from models import *\n",
    "# from schemas.user_schema import *\n",
    "# from schemas.ruangan_schema import *\n",
    "# from schemas.instalasi_schema import *\n",
    "from database import *\n",
    "import numpy as np"
   ]
  },
  {
   "cell_type": "code",
   "execution_count": 15,
   "metadata": {},
   "outputs": [],
   "source": [
    "# pegawai = pd.read_csv(\"modelses/seed/DataPegawai.csv\")\n",
    "pegawai = pd.read_csv(\"modelses/seed/Instalasi.csv\")"
   ]
  },
  {
   "cell_type": "code",
   "execution_count": 16,
   "metadata": {},
   "outputs": [
    {
     "data": {
      "text/html": [
       "<div>\n",
       "<style scoped>\n",
       "    .dataframe tbody tr th:only-of-type {\n",
       "        vertical-align: middle;\n",
       "    }\n",
       "\n",
       "    .dataframe tbody tr th {\n",
       "        vertical-align: top;\n",
       "    }\n",
       "\n",
       "    .dataframe thead th {\n",
       "        text-align: right;\n",
       "    }\n",
       "</style>\n",
       "<table border=\"1\" class=\"dataframe\">\n",
       "  <thead>\n",
       "    <tr style=\"text-align: right;\">\n",
       "      <th></th>\n",
       "      <th>KdInstalasi</th>\n",
       "      <th>NamaInstalasi</th>\n",
       "      <th>Fungsi</th>\n",
       "      <th>QInstalasi</th>\n",
       "      <th>KodeExternal</th>\n",
       "      <th>NamaExternal</th>\n",
       "      <th>StatusEnabled</th>\n",
       "    </tr>\n",
       "  </thead>\n",
       "  <tbody>\n",
       "    <tr>\n",
       "      <th>22</th>\n",
       "      <td>23</td>\n",
       "      <td>Instalasi Cssd</td>\n",
       "      <td>Penunjang  Non Medik</td>\n",
       "      <td>23</td>\n",
       "      <td>NaN</td>\n",
       "      <td>NaN</td>\n",
       "      <td>1</td>\n",
       "    </tr>\n",
       "    <tr>\n",
       "      <th>23</th>\n",
       "      <td>24</td>\n",
       "      <td>Instalasi Rawatan Kritis</td>\n",
       "      <td>Pelayanan Medik</td>\n",
       "      <td>24</td>\n",
       "      <td>NaN</td>\n",
       "      <td>NaN</td>\n",
       "      <td>1</td>\n",
       "    </tr>\n",
       "    <tr>\n",
       "      <th>24</th>\n",
       "      <td>25</td>\n",
       "      <td>Direksi</td>\n",
       "      <td>Pimpinan</td>\n",
       "      <td>27</td>\n",
       "      <td>NaN</td>\n",
       "      <td>NaN</td>\n",
       "      <td>1</td>\n",
       "    </tr>\n",
       "    <tr>\n",
       "      <th>25</th>\n",
       "      <td>26</td>\n",
       "      <td>Instalasi Pendidikan Latihan (DIKLAT)</td>\n",
       "      <td>Diklat</td>\n",
       "      <td>45</td>\n",
       "      <td>NaN</td>\n",
       "      <td>NaN</td>\n",
       "      <td>1</td>\n",
       "    </tr>\n",
       "    <tr>\n",
       "      <th>26</th>\n",
       "      <td>27</td>\n",
       "      <td>Komite</td>\n",
       "      <td>Komite</td>\n",
       "      <td>50</td>\n",
       "      <td>NaN</td>\n",
       "      <td>NaN</td>\n",
       "      <td>1</td>\n",
       "    </tr>\n",
       "  </tbody>\n",
       "</table>\n",
       "</div>"
      ],
      "text/plain": [
       "    KdInstalasi                          NamaInstalasi                Fungsi  \\\n",
       "22           23                         Instalasi Cssd  Penunjang  Non Medik   \n",
       "23           24               Instalasi Rawatan Kritis       Pelayanan Medik   \n",
       "24           25                                Direksi              Pimpinan   \n",
       "25           26  Instalasi Pendidikan Latihan (DIKLAT)                Diklat   \n",
       "26           27                                 Komite                Komite   \n",
       "\n",
       "    QInstalasi  KodeExternal  NamaExternal  StatusEnabled  \n",
       "22          23           NaN           NaN              1  \n",
       "23          24           NaN           NaN              1  \n",
       "24          27           NaN           NaN              1  \n",
       "25          45           NaN           NaN              1  \n",
       "26          50           NaN           NaN              1  "
      ]
     },
     "execution_count": 16,
     "metadata": {},
     "output_type": "execute_result"
    }
   ],
   "source": [
    "pegawai.tail()"
   ]
  },
  {
   "cell_type": "code",
   "execution_count": 21,
   "metadata": {},
   "outputs": [],
   "source": [
    "pgw_new = pegawai.drop([\"QInstalasi\", \"KodeExternal\", \"NamaExternal\", \"StatusEnabled\"], axis=1)"
   ]
  },
  {
   "cell_type": "code",
   "execution_count": 20,
   "metadata": {},
   "outputs": [],
   "source": [
    "db = SessionLocal()"
   ]
  },
  {
   "cell_type": "code",
   "execution_count": 40,
   "metadata": {},
   "outputs": [],
   "source": [
    "ss = db.query(Ruangan).all()"
   ]
  },
  {
   "cell_type": "code",
   "execution_count": 26,
   "metadata": {},
   "outputs": [
    {
     "data": {
      "text/html": [
       "<div>\n",
       "<style scoped>\n",
       "    .dataframe tbody tr th:only-of-type {\n",
       "        vertical-align: middle;\n",
       "    }\n",
       "\n",
       "    .dataframe tbody tr th {\n",
       "        vertical-align: top;\n",
       "    }\n",
       "\n",
       "    .dataframe thead th {\n",
       "        text-align: right;\n",
       "    }\n",
       "</style>\n",
       "<table border=\"1\" class=\"dataframe\">\n",
       "  <thead>\n",
       "    <tr style=\"text-align: right;\">\n",
       "      <th></th>\n",
       "      <th>KdInstalasi</th>\n",
       "      <th>NamaInstalasi</th>\n",
       "      <th>Fungsi</th>\n",
       "    </tr>\n",
       "  </thead>\n",
       "  <tbody>\n",
       "    <tr>\n",
       "      <th>0</th>\n",
       "      <td>1</td>\n",
       "      <td>Instalasi Gawat Darurat</td>\n",
       "      <td>Pelayanan Medik</td>\n",
       "    </tr>\n",
       "    <tr>\n",
       "      <th>1</th>\n",
       "      <td>2</td>\n",
       "      <td>Instalasi Rawat Jalan</td>\n",
       "      <td>Pelayanan Medik</td>\n",
       "    </tr>\n",
       "    <tr>\n",
       "      <th>2</th>\n",
       "      <td>3</td>\n",
       "      <td>Instalasi Rawat Inap</td>\n",
       "      <td>Pelayanan Medik</td>\n",
       "    </tr>\n",
       "    <tr>\n",
       "      <th>3</th>\n",
       "      <td>4</td>\n",
       "      <td>Instalasi Bedah Sentral</td>\n",
       "      <td>Pelayanan Medik</td>\n",
       "    </tr>\n",
       "    <tr>\n",
       "      <th>4</th>\n",
       "      <td>5</td>\n",
       "      <td>Instalasi P3U</td>\n",
       "      <td>Penunjang Non Medik</td>\n",
       "    </tr>\n",
       "  </tbody>\n",
       "</table>\n",
       "</div>"
      ],
      "text/plain": [
       "  KdInstalasi            NamaInstalasi               Fungsi\n",
       "0           1  Instalasi Gawat Darurat      Pelayanan Medik\n",
       "1           2    Instalasi Rawat Jalan      Pelayanan Medik\n",
       "2           3     Instalasi Rawat Inap      Pelayanan Medik\n",
       "3           4  Instalasi Bedah Sentral      Pelayanan Medik\n",
       "4           5            Instalasi P3U  Penunjang Non Medik"
      ]
     },
     "execution_count": 26,
     "metadata": {},
     "output_type": "execute_result"
    }
   ],
   "source": [
    "# pgw_new = pgw_new.astype(object).where(pd.notnull(pgw_new), None)\n",
    "pgw_new = pgw_new.astype(object)\n",
    "pgw_new.head()"
   ]
  },
  {
   "cell_type": "code",
   "execution_count": 56,
   "metadata": {},
   "outputs": [
    {
     "ename": "InvalidRequestError",
     "evalue": "This Session's transaction has been rolled back due to a previous exception during flush. To begin a new transaction with this Session, first issue Session.rollback(). Original exception was: (psycopg2.errors.DatatypeMismatch) column \"tanggal_lahir\" is of type timestamp without time zone but expression is of type double precision\nLINE 1: ...ANI, Sp.P', '19771019 200604 2 015', 'Surakarta', 'NaN'::flo...\n                                                             ^\nHINT:  You will need to rewrite or cast the expression.\n\n[SQL: INSERT INTO pegawai (id, nama_lengkap, nama_panggilan, tempat_lahir, tanggal_lahir, jenis_kelamin, no_hp, no_wa, created_at, update_at, deleted_at) VALUES (%(id)s, %(nama_lengkap)s, %(nama_panggilan)s, %(tempat_lahir)s, %(tanggal_lahir)s, %(jenis_kelamin)s, %(no_hp)s, %(no_wa)s, %(created_at)s, %(update_at)s, %(deleted_at)s)]\n[parameters: {'id': 'P013000096', 'nama_lengkap': 'dr. RENI ARI MARTANI, Sp.P', 'nama_panggilan': '19771019 200604 2 015', 'tempat_lahir': 'Surakarta', 'tanggal_lahir': nan, 'jenis_kelamin': 'P', 'no_hp': None, 'no_wa': None, 'created_at': datetime.datetime(2021, 3, 4, 10, 12, 9, 626211), 'update_at': datetime.datetime(2021, 3, 4, 10, 12, 9, 626211), 'deleted_at': None}]\n(Background on this error at: http://sqlalche.me/e/13/f405) (Background on this error at: http://sqlalche.me/e/13/7s2a)",
     "output_type": "error",
     "traceback": [
      "\u001b[1;31m---------------------------------------------------------------------------\u001b[0m",
      "\u001b[1;31mInvalidRequestError\u001b[0m                       Traceback (most recent call last)",
      "\u001b[1;32m<ipython-input-56-85714c659210>\u001b[0m in \u001b[0;36m<module>\u001b[1;34m\u001b[0m\n\u001b[0;32m      8\u001b[0m                      )\n\u001b[0;32m      9\u001b[0m     \u001b[0mdb\u001b[0m\u001b[1;33m.\u001b[0m\u001b[0madd\u001b[0m\u001b[1;33m(\u001b[0m\u001b[0mpegawai\u001b[0m\u001b[1;33m)\u001b[0m\u001b[1;33m\u001b[0m\u001b[1;33m\u001b[0m\u001b[0m\n\u001b[1;32m---> 10\u001b[1;33m     \u001b[0mdb\u001b[0m\u001b[1;33m.\u001b[0m\u001b[0mcommit\u001b[0m\u001b[1;33m(\u001b[0m\u001b[1;33m)\u001b[0m\u001b[1;33m\u001b[0m\u001b[1;33m\u001b[0m\u001b[0m\n\u001b[0m\u001b[0;32m     11\u001b[0m     \u001b[0mdb\u001b[0m\u001b[1;33m.\u001b[0m\u001b[0mrefresh\u001b[0m\u001b[1;33m(\u001b[0m\u001b[0mpegawai\u001b[0m\u001b[1;33m)\u001b[0m\u001b[1;33m\u001b[0m\u001b[1;33m\u001b[0m\u001b[0m\n",
      "\u001b[1;32mC:\\ProgramData\\Anaconda3\\lib\\site-packages\\sqlalchemy\\orm\\session.py\u001b[0m in \u001b[0;36mcommit\u001b[1;34m(self)\u001b[0m\n\u001b[0;32m   1040\u001b[0m                 \u001b[1;32mraise\u001b[0m \u001b[0msa_exc\u001b[0m\u001b[1;33m.\u001b[0m\u001b[0mInvalidRequestError\u001b[0m\u001b[1;33m(\u001b[0m\u001b[1;34m\"No transaction is begun.\"\u001b[0m\u001b[1;33m)\u001b[0m\u001b[1;33m\u001b[0m\u001b[1;33m\u001b[0m\u001b[0m\n\u001b[0;32m   1041\u001b[0m \u001b[1;33m\u001b[0m\u001b[0m\n\u001b[1;32m-> 1042\u001b[1;33m         \u001b[0mself\u001b[0m\u001b[1;33m.\u001b[0m\u001b[0mtransaction\u001b[0m\u001b[1;33m.\u001b[0m\u001b[0mcommit\u001b[0m\u001b[1;33m(\u001b[0m\u001b[1;33m)\u001b[0m\u001b[1;33m\u001b[0m\u001b[1;33m\u001b[0m\u001b[0m\n\u001b[0m\u001b[0;32m   1043\u001b[0m \u001b[1;33m\u001b[0m\u001b[0m\n\u001b[0;32m   1044\u001b[0m     \u001b[1;32mdef\u001b[0m \u001b[0mprepare\u001b[0m\u001b[1;33m(\u001b[0m\u001b[0mself\u001b[0m\u001b[1;33m)\u001b[0m\u001b[1;33m:\u001b[0m\u001b[1;33m\u001b[0m\u001b[1;33m\u001b[0m\u001b[0m\n",
      "\u001b[1;32mC:\\ProgramData\\Anaconda3\\lib\\site-packages\\sqlalchemy\\orm\\session.py\u001b[0m in \u001b[0;36mcommit\u001b[1;34m(self)\u001b[0m\n\u001b[0;32m    500\u001b[0m \u001b[1;33m\u001b[0m\u001b[0m\n\u001b[0;32m    501\u001b[0m     \u001b[1;32mdef\u001b[0m \u001b[0mcommit\u001b[0m\u001b[1;33m(\u001b[0m\u001b[0mself\u001b[0m\u001b[1;33m)\u001b[0m\u001b[1;33m:\u001b[0m\u001b[1;33m\u001b[0m\u001b[1;33m\u001b[0m\u001b[0m\n\u001b[1;32m--> 502\u001b[1;33m         \u001b[0mself\u001b[0m\u001b[1;33m.\u001b[0m\u001b[0m_assert_active\u001b[0m\u001b[1;33m(\u001b[0m\u001b[0mprepared_ok\u001b[0m\u001b[1;33m=\u001b[0m\u001b[1;32mTrue\u001b[0m\u001b[1;33m)\u001b[0m\u001b[1;33m\u001b[0m\u001b[1;33m\u001b[0m\u001b[0m\n\u001b[0m\u001b[0;32m    503\u001b[0m         \u001b[1;32mif\u001b[0m \u001b[0mself\u001b[0m\u001b[1;33m.\u001b[0m\u001b[0m_state\u001b[0m \u001b[1;32mis\u001b[0m \u001b[1;32mnot\u001b[0m \u001b[0mPREPARED\u001b[0m\u001b[1;33m:\u001b[0m\u001b[1;33m\u001b[0m\u001b[1;33m\u001b[0m\u001b[0m\n\u001b[0;32m    504\u001b[0m             \u001b[0mself\u001b[0m\u001b[1;33m.\u001b[0m\u001b[0m_prepare_impl\u001b[0m\u001b[1;33m(\u001b[0m\u001b[1;33m)\u001b[0m\u001b[1;33m\u001b[0m\u001b[1;33m\u001b[0m\u001b[0m\n",
      "\u001b[1;32mC:\\ProgramData\\Anaconda3\\lib\\site-packages\\sqlalchemy\\orm\\session.py\u001b[0m in \u001b[0;36m_assert_active\u001b[1;34m(self, prepared_ok, rollback_ok, deactive_ok, closed_msg)\u001b[0m\n\u001b[0;32m    294\u001b[0m                         \u001b[1;34m\" Original exception was: %s\"\u001b[0m\u001b[1;33m\u001b[0m\u001b[1;33m\u001b[0m\u001b[0m\n\u001b[0;32m    295\u001b[0m                         \u001b[1;33m%\u001b[0m \u001b[0mself\u001b[0m\u001b[1;33m.\u001b[0m\u001b[0m_rollback_exception\u001b[0m\u001b[1;33m,\u001b[0m\u001b[1;33m\u001b[0m\u001b[1;33m\u001b[0m\u001b[0m\n\u001b[1;32m--> 296\u001b[1;33m                         \u001b[0mcode\u001b[0m\u001b[1;33m=\u001b[0m\u001b[1;34m\"7s2a\"\u001b[0m\u001b[1;33m,\u001b[0m\u001b[1;33m\u001b[0m\u001b[1;33m\u001b[0m\u001b[0m\n\u001b[0m\u001b[0;32m    297\u001b[0m                     )\n\u001b[0;32m    298\u001b[0m                 \u001b[1;32melif\u001b[0m \u001b[1;32mnot\u001b[0m \u001b[0mdeactive_ok\u001b[0m\u001b[1;33m:\u001b[0m\u001b[1;33m\u001b[0m\u001b[1;33m\u001b[0m\u001b[0m\n",
      "\u001b[1;31mInvalidRequestError\u001b[0m: This Session's transaction has been rolled back due to a previous exception during flush. To begin a new transaction with this Session, first issue Session.rollback(). Original exception was: (psycopg2.errors.DatatypeMismatch) column \"tanggal_lahir\" is of type timestamp without time zone but expression is of type double precision\nLINE 1: ...ANI, Sp.P', '19771019 200604 2 015', 'Surakarta', 'NaN'::flo...\n                                                             ^\nHINT:  You will need to rewrite or cast the expression.\n\n[SQL: INSERT INTO pegawai (id, nama_lengkap, nama_panggilan, tempat_lahir, tanggal_lahir, jenis_kelamin, no_hp, no_wa, created_at, update_at, deleted_at) VALUES (%(id)s, %(nama_lengkap)s, %(nama_panggilan)s, %(tempat_lahir)s, %(tanggal_lahir)s, %(jenis_kelamin)s, %(no_hp)s, %(no_wa)s, %(created_at)s, %(update_at)s, %(deleted_at)s)]\n[parameters: {'id': 'P013000096', 'nama_lengkap': 'dr. RENI ARI MARTANI, Sp.P', 'nama_panggilan': '19771019 200604 2 015', 'tempat_lahir': 'Surakarta', 'tanggal_lahir': nan, 'jenis_kelamin': 'P', 'no_hp': None, 'no_wa': None, 'created_at': datetime.datetime(2021, 3, 4, 10, 12, 9, 626211), 'update_at': datetime.datetime(2021, 3, 4, 10, 12, 9, 626211), 'deleted_at': None}]\n(Background on this error at: http://sqlalche.me/e/13/f405) (Background on this error at: http://sqlalche.me/e/13/7s2a)"
     ]
    }
   ],
   "source": [
    "for i in range(0, pgw_new.shape[0]):\n",
    "    pegawai = Pegawai(id=pgw_new.iloc[i]['IdPegawai'],\n",
    "                      nama_lengkap=pgw_new.iloc[i]['NamaLengkap'],\n",
    "                      nama_panggilan=pgw_new.iloc[i]['NamaPanggilan'],\n",
    "                      jenis_kelamin=pgw_new.iloc[i]['JenisKelamin'],\n",
    "                      tempat_lahir=pgw_new.iloc[i]['TempatLahir'],\n",
    "                      tanggal_lahir=pgw_new.iloc[i]['TglLahir']\n",
    "                     )\n",
    "    db.add(pegawai)\n",
    "    db.commit()\n",
    "    db.refresh(pegawai)"
   ]
  },
  {
   "cell_type": "code",
   "execution_count": 25,
   "metadata": {},
   "outputs": [
    {
     "data": {
      "text/plain": [
       "numpy.int64"
      ]
     },
     "execution_count": 25,
     "metadata": {},
     "output_type": "execute_result"
    }
   ],
   "source": [
    "for i in range(0, pgw_new.shape[0]):\n",
    "    pegawai = Pegawai(id=pgw_new.iloc[i]['KdInstalasi'],\n",
    "                      nama=pgw_new.iloc[i]['NamaInstalasi'],\n",
    "                     )\n",
    "    db.add(pegawai)\n",
    "    db.commit()\n",
    "    db.refresh(pegawai)"
   ]
  },
  {
   "cell_type": "code",
   "execution_count": null,
   "metadata": {},
   "outputs": [],
   "source": []
  }
 ],
 "metadata": {
  "kernelspec": {
   "display_name": "Python 3",
   "language": "python",
   "name": "python3"
  },
  "language_info": {
   "codemirror_mode": {
    "name": "ipython",
    "version": 3
   },
   "file_extension": ".py",
   "mimetype": "text/x-python",
   "name": "python",
   "nbconvert_exporter": "python",
   "pygments_lexer": "ipython3",
   "version": "3.7.3"
  }
 },
 "nbformat": 4,
 "nbformat_minor": 2
}
